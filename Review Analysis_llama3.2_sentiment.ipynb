{
 "cells": [
  {
   "cell_type": "code",
   "execution_count": 16,
   "id": "6b1d159b-7cf1-4098-8338-093a03839b8b",
   "metadata": {},
   "outputs": [],
   "source": [
    "import pandas as pd\n",
    "import ollama\n",
    "from ollama import chat\n",
    "from pydantic import BaseModel\n",
    "#from openai import OpenAI\n",
    "\n",
    "# Set Display Settings\n",
    "pd.set_option('display.max_colwidth', 70)"
   ]
  },
  {
   "cell_type": "code",
   "execution_count": 2,
   "id": "4f9ab85b-a32e-47c7-92b0-9d23778b7d1b",
   "metadata": {},
   "outputs": [],
   "source": [
    "data=pd.read_excel(\"/Users/santhanakrishnans/Downloads/ford_service_review_processed.xlsx\")\n",
    "\n",
    "data=data.dropna(subset=['review'])\n",
    "data[\"review_original\"]=data[\"review\"]\n",
    "data=data.reset_index()\n"
   ]
  },
  {
   "cell_type": "code",
   "execution_count": 7,
   "id": "bf4936f9-1a5c-4177-a129-7bf39fde207e",
   "metadata": {},
   "outputs": [
    {
     "name": "stderr",
     "output_type": "stream",
     "text": [
      "Processing Reviews: 100%|█████████████████████████| 3/3 [00:03<00:00,  1.19s/it]"
     ]
    },
    {
     "name": "stdout",
     "output_type": "stream",
     "text": [
      "                                                  review  \\\n",
      "0                                  3 hours to change oil   \n",
      "1                          Always fairly quick to charge   \n",
      "2  Always a good impression...and very attentive service   \n",
      "\n",
      "                                                                analysis  \n",
      "0         Key topics: Product Quality, Service Cost\\nSentiment: Negative  \n",
      "1         Key topics: Product Quality, Service Time\\nSentiment: Positive  \n",
      "2  Key topics: Product Quality, Staff, Service Time\\nSentiment: Positive  \n"
     ]
    },
    {
     "name": "stderr",
     "output_type": "stream",
     "text": [
      "\n"
     ]
    }
   ],
   "source": [
    "\n",
    "import pandas as pd\n",
    "from concurrent.futures import ThreadPoolExecutor, as_completed\n",
    "from ollama import chat\n",
    "from tqdm import tqdm\n",
    "\n",
    "def analyze_single_review(review, predefined_topics, allowed_sentiments, index):\n",
    "    prompt_template = \"\"\"\n",
    "        Analyze the following review and do the following:\n",
    "        1. Identify the key topics talked about in the review only out of the following comma-separated list: {topics}.\n",
    "        2. Identify the sentiments expressed in the review from the following comma-separated list: {sentiments}.\n",
    "\n",
    "        Return the output in this format:\n",
    "        Key topics: [comma-separated list of topics]\n",
    "        Sentiment: [sentiment]\n",
    "    \"\"\"\n",
    "    prompt = prompt_template.format(\n",
    "        topics=\", \".join(predefined_topics),\n",
    "        sentiments=\", \".join(allowed_sentiments),\n",
    "    ) + f\"\\n\\nReview {index + 1}: {review}\"\n",
    "\n",
    "    response = chat(\n",
    "        model=\"llama3.2\",\n",
    "        messages=[\n",
    "            {\"role\": \"system\", \"content\": \"You are a helpful assistant for analyzing reviews.\"},\n",
    "            {\"role\": \"user\", \"content\": prompt},\n",
    "        ],\n",
    "        options={'temperature': 0.01}\n",
    "    )\n",
    "\n",
    "    if hasattr(response, \"message\") and hasattr(response.message, \"content\"):\n",
    "        return {\"index\": index, \"analysis\": response.message.content.strip()}\n",
    "    else:\n",
    "        raise ValueError(f\"Unexpected response format for review {index}:\", response)\n",
    "\n",
    "\n",
    "def analyze_reviews_in_parallel(dataframe, predefined_topics, allowed_sentiments, max_workers=4):\n",
    "    reviews = dataframe[\"review\"].tolist()\n",
    "    results = []\n",
    "\n",
    "    with ThreadPoolExecutor(max_workers=max_workers) as executor:\n",
    "        with tqdm(total=len(reviews), desc=\"Processing Reviews\") as progress_bar:\n",
    "            future_to_review = {\n",
    "                executor.submit(\n",
    "                    analyze_single_review, review, predefined_topics, allowed_sentiments, idx\n",
    "                ): idx\n",
    "                for idx, review in enumerate(reviews)\n",
    "            }\n",
    "\n",
    "            for future in as_completed(future_to_review):\n",
    "                try:\n",
    "                    result = future.result()\n",
    "                    results.append(result)\n",
    "                except Exception as e:\n",
    "                    print(f\"Error processing review {future_to_review[future]}: {e}\")\n",
    "                finally:\n",
    "                    progress_bar.update(1)\n",
    "\n",
    "    results.sort(key=lambda x: x[\"index\"])\n",
    "\n",
    "    dataframe[\"analysis\"] = [result[\"analysis\"] for result in results]\n",
    "\n",
    "    return dataframe\n",
    "\n",
    "\n",
    "if __name__ == \"__main__\":\n",
    "    data = pd.DataFrame({\n",
    "        \"review\": [\n",
    "            \"3 hours to change oil\",\n",
    "            \"Always fairly quick to charge\",\n",
    "            \"Always a good impression...and very attentive service\"\n",
    "        ]\n",
    "    })\n",
    "\n",
    "    predefined_topics = [\n",
    "        'Product Quality', 'Staff', 'Service Time',\n",
    "        'Music System', 'Recall', 'Brake',\n",
    "        'Oil Change/Refill', 'Wheel/Tires',\n",
    "        'Product Quality', 'Service Cost', 'Service Diagnostics',\n",
    "        'Facilities', 'Windshield', 'Door', 'Battery',\n",
    "        'Engine', 'Product Availability', 'Not Classified'\n",
    "    ]\n",
    "    allowed_sentiments = [\"Positive\", \"Negative\", \"Neutral\"]\n",
    "\n",
    "    updated_data = analyze_reviews_in_parallel(data, predefined_topics, allowed_sentiments, max_workers=4)\n",
    "\n",
    "    print(updated_data)"
   ]
  },
  {
   "cell_type": "code",
   "execution_count": null,
   "id": "2e5a8743-19dd-4e0e-83ce-32a0fad221ab",
   "metadata": {},
   "outputs": [],
   "source": [
    "updated_data[\"Key Topics\"] = updated_data[\"analysis\"].str.extract(r\"Key topics:\\s*([^\\n]*)\")\n",
    "updated_data[\"Sentiment\"] = data[\"analysis\"].str.extract(r\"Sentiment:\\s*([^\\n]*)\")\n",
    "\n",
    "# Drop the analysis column (optional)\n",
    "updated_data = updated_data.drop(columns=[\"analysis\"])\n",
    "\n",
    "# Display the result\n",
    "print(updated_data)\n"
   ]
  },
  {
   "cell_type": "code",
   "execution_count": null,
   "id": "a3b80e06-0132-47df-9678-212c70368f19",
   "metadata": {},
   "outputs": [],
   "source": [
    "updated_data.to_csv(\"/Users/santhanakrishnans/Downloads/llama3.2_base.csv\")"
   ]
  },
  {
   "cell_type": "code",
   "execution_count": null,
   "id": "d8c42ed9-0e59-4d6c-8c97-9606268a45b8",
   "metadata": {},
   "outputs": [],
   "source": [
    "# Predefined topics\n",
    "predefined_topics = [\n",
    "    'Product Quality', 'Staff', 'Service Time', 'Music System', 'Recall',\n",
    "    'Brake', 'Oil Change/Refill', 'Wheel/Tires', 'Service Cost',\n",
    "    'Service Diagnostics', 'Facilities', 'Windshield', 'Door', 'Battery',\n",
    "    'Engine', 'Product Availability', 'Not Classified', 'Customer Service',\n",
    "    'Service Quality'\n",
    "]\n",
    "\n",
    "\n",
    "# Create a column for each predefined topic\n",
    "for topic in predefined_topics:\n",
    "    updated_data[topic] = updated_data[\"Key Topics\"].apply(lambda x: 1 if isinstance(x, str) and topic in x else 0)\n",
    "\n",
    "# Display the updated DataFrame\n",
    "print(updated_data)"
   ]
  },
  {
   "cell_type": "code",
   "execution_count": null,
   "id": "c4bb2c07-e04c-46f3-88ee-a98580129f11",
   "metadata": {},
   "outputs": [],
   "source": [
    "updated_data.to_csv(\"/Users/santhanakrishnans/Downloads/llama3.2_base_topics_temp.csv\")"
   ]
  },
  {
   "cell_type": "code",
   "execution_count": null,
   "id": "9cdfec2b-f19f-4594-9275-817be779a21e",
   "metadata": {},
   "outputs": [],
   "source": [
    "# Calculate the number of rows with no topics (excluding 'Not Classified')\n",
    "topics_to_consider = [topic for topic in predefined_topics if topic != 'Not Classified']\n",
    "no_topics_count = updated_data[topics_to_consider].sum(axis=1).eq(0).sum()\n",
    "\n",
    "# Calculate the percentage of rows with no topics\n",
    "no_topics_percentage = (no_topics_count / len(updated_data)) * 100\n",
    "\n",
    "print(f\"{no_topics_percentage:.2f}% of rows do not contain any topic from the predefined list (excluding 'Not Classified').\")"
   ]
  },
  {
   "cell_type": "code",
   "execution_count": null,
   "id": "12cd61cf-6fe8-458a-bdcc-03c1246d9a43",
   "metadata": {},
   "outputs": [],
   "source": [
    "updated_data[predefined_topics]"
   ]
  },
  {
   "cell_type": "code",
   "execution_count": null,
   "id": "ea8649e1-b63b-4715-8afa-faf541d28a80",
   "metadata": {},
   "outputs": [],
   "source": [
    "# Get the topic occurrence counts\n",
    "topic_counts = updated_data[predefined_topics].sum().sort_values(ascending=False)\n",
    "\n",
    "# Print the topic counts\n",
    "print(topic_counts)"
   ]
  },
  {
   "cell_type": "code",
   "execution_count": null,
   "id": "e84540d6-8d1b-4268-8fb0-dd3d60d4734a",
   "metadata": {},
   "outputs": [],
   "source": [
    "topic_counts.to_csv(\"Topic_Distribution_zeroshot_temp.csv\")"
   ]
  },
  {
   "cell_type": "code",
   "execution_count": 33,
   "id": "67353576-3a27-4c75-96dd-f453f077f6b9",
   "metadata": {},
   "outputs": [],
   "source": [
    "sentiment_data=pd.read_csv(\"/Users/santhanakrishnans/Downloads/llama3.2_base_topics.csv\")"
   ]
  },
  {
   "cell_type": "code",
   "execution_count": 34,
   "id": "c18820ad-70e6-4983-b9ad-3c27c01401fe",
   "metadata": {},
   "outputs": [
    {
     "data": {
      "text/plain": [
       "Index(['Unnamed: 0', 'index', 'serviceCentre', 'dummy', 'overall rating',\n",
       "       'dummy1', 'geo_location', 'Unnamed: 5', 'Unnamed: 6', 'user',\n",
       "       'Unnamed: 8', 'date', 'rating', 'review', 'Unnamed: 12', 'response',\n",
       "       'review_original', 'Key Topics', 'Sentiment', 'Product Quality',\n",
       "       'Staff', 'Service Time', 'Music System', 'Recall', 'Brake',\n",
       "       'Oil Change/Refill', 'Wheel/Tires', 'Service Cost',\n",
       "       'Service Diagnostics', 'Facilities', 'Windshield', 'Door', 'Battery',\n",
       "       'Engine', 'Product Availability', 'Not Classified', 'Customer Service',\n",
       "       'Service Quality'],\n",
       "      dtype='object')"
      ]
     },
     "execution_count": 34,
     "metadata": {},
     "output_type": "execute_result"
    }
   ],
   "source": [
    "sentiment_data.columns"
   ]
  },
  {
   "cell_type": "code",
   "execution_count": 35,
   "id": "c25868f9-697a-4d5b-b522-a437724609f4",
   "metadata": {},
   "outputs": [
    {
     "data": {
      "text/plain": [
       "0        1 star\n",
       "1        1 star\n",
       "2        1 star\n",
       "3        1 star\n",
       "4        1 star\n",
       "         ...   \n",
       "1176    4 stars\n",
       "1177    5 stars\n",
       "1178    5 stars\n",
       "1179    4 stars\n",
       "1180    5 stars\n",
       "Name: rating, Length: 1181, dtype: object"
      ]
     },
     "execution_count": 35,
     "metadata": {},
     "output_type": "execute_result"
    }
   ],
   "source": [
    "sentiment_data.rating"
   ]
  },
  {
   "cell_type": "code",
   "execution_count": 36,
   "id": "67c5c7d2-28b7-40e3-8bea-477557364557",
   "metadata": {},
   "outputs": [],
   "source": [
    "import pandas as pd\n",
    "import re\n",
    "\n",
    "# Remove the string \"star\" and any other special characters, and convert to int\n",
    "sentiment_data['rating'] = sentiment_data['rating'].apply(lambda x: int(re.sub('[^0-9]', '', x)))\n",
    "\n",
    "# Label the sentiment based on the rating\n",
    "sentiment_data['sentiment_original'] = sentiment_data['rating'].apply(lambda x: 'Positive' if x > 3 else 'Neutral' if x == 3 else 'Negative')"
   ]
  },
  {
   "cell_type": "code",
   "execution_count": 37,
   "id": "785e1efb-01af-45c3-a38d-a8edfa295f90",
   "metadata": {},
   "outputs": [
    {
     "name": "stdout",
     "output_type": "stream",
     "text": [
      "sentiment_original\n",
      "Positive    727\n",
      "Negative    396\n",
      "Neutral      58\n",
      "Name: count, dtype: int64\n"
     ]
    },
    {
     "ename": "AttributeError",
     "evalue": "'NoneType' object has no attribute 'groupby'",
     "output_type": "error",
     "traceback": [
      "\u001b[0;31m---------------------------------------------------------------------------\u001b[0m",
      "\u001b[0;31mAttributeError\u001b[0m                            Traceback (most recent call last)",
      "Cell \u001b[0;32mIn[37], line 2\u001b[0m\n\u001b[1;32m      1\u001b[0m sentiment_summary \u001b[38;5;241m=\u001b[39m sentiment_data[\u001b[38;5;124m'\u001b[39m\u001b[38;5;124msentiment_original\u001b[39m\u001b[38;5;124m'\u001b[39m]\u001b[38;5;241m.\u001b[39mvalue_counts()\n\u001b[0;32m----> 2\u001b[0m \u001b[38;5;28mprint\u001b[39m(sentiment_summary)\u001b[38;5;241m.\u001b[39mgroupby()\n",
      "\u001b[0;31mAttributeError\u001b[0m: 'NoneType' object has no attribute 'groupby'"
     ]
    }
   ],
   "source": [
    "sentiment_summary = sentiment_data['sentiment_original'].value_counts()\n",
    "print(sentiment_summary).groupby()"
   ]
  },
  {
   "cell_type": "code",
   "execution_count": 38,
   "id": "db90597e-e7b5-4c66-b1a8-023a59b61a6b",
   "metadata": {},
   "outputs": [
    {
     "name": "stdout",
     "output_type": "stream",
     "text": [
      "Sentiment\n",
      "Positive                                                       684\n",
      "Negative                                                       438\n",
      "Neutral                                                         47\n",
      "Not Classified                                                   8\n",
      "None of the above (as no sentiment is explicitly mentioned)      1\n",
      "Positive                                                         1\n",
      "Name: count, dtype: int64\n"
     ]
    },
    {
     "ename": "AttributeError",
     "evalue": "'NoneType' object has no attribute 'groupby'",
     "output_type": "error",
     "traceback": [
      "\u001b[0;31m---------------------------------------------------------------------------\u001b[0m",
      "\u001b[0;31mAttributeError\u001b[0m                            Traceback (most recent call last)",
      "Cell \u001b[0;32mIn[38], line 2\u001b[0m\n\u001b[1;32m      1\u001b[0m sentiment_summary_AI \u001b[38;5;241m=\u001b[39m sentiment_data[\u001b[38;5;124m'\u001b[39m\u001b[38;5;124mSentiment\u001b[39m\u001b[38;5;124m'\u001b[39m]\u001b[38;5;241m.\u001b[39mvalue_counts()\n\u001b[0;32m----> 2\u001b[0m \u001b[38;5;28mprint\u001b[39m(sentiment_summary_AI)\u001b[38;5;241m.\u001b[39mgroupby()\n",
      "\u001b[0;31mAttributeError\u001b[0m: 'NoneType' object has no attribute 'groupby'"
     ]
    }
   ],
   "source": [
    "sentiment_summary_AI = sentiment_data['Sentiment'].value_counts()\n",
    "print(sentiment_summary_AI).groupby()"
   ]
  },
  {
   "cell_type": "code",
   "execution_count": 41,
   "id": "d2b23ebc-5354-4bfd-b0f3-299d96b16d85",
   "metadata": {},
   "outputs": [
    {
     "data": {
      "text/plain": [
       "<sklearn.metrics._plot.confusion_matrix.ConfusionMatrixDisplay at 0x160a0a420>"
      ]
     },
     "execution_count": 41,
     "metadata": {},
     "output_type": "execute_result"
    },
    {
     "data": {
      "image/png": "[encoded data removed]",
      "text/plain": [
       "<Figure size 640x480 with 2 Axes>"
      ]
     },
     "metadata": {},
     "output_type": "display_data"
    }
   ],
   "source": [
    "from sklearn.metrics import ConfusionMatrixDisplay\n",
    "sentiment_data = sentiment_data[sentiment_data['Sentiment'].isin([\"Positive\", \"Neutral\", \"Negative\"])]\n",
    "# Build the confusion matrix\n",
    "cm = confusion_matrix(sentiment_data['sentiment_original'], sentiment_data['Sentiment'])\n",
    "\n",
    "# Create a ConfusionMatrixDisplay object\n",
    "cmd = ConfusionMatrixDisplay(cm, display_labels=['Negative', 'Neutral', 'Positive'])\n",
    "\n",
    "# Plot the confusion matrix\n",
    "cmd.plot()"
   ]
  },
  {
   "cell_type": "code",
   "execution_count": 42,
   "id": "24a08f21-d2c7-46cf-ae65-b0b2827da948",
   "metadata": {},
   "outputs": [
    {
     "name": "stdout",
     "output_type": "stream",
     "text": [
      "Accuracy: 0.9059024807527801\n",
      "Precision (Positive): 0.867579908675799\n",
      "Precision (Neutral): 0.3617021276595745\n",
      "Precision (Negative): 0.9678362573099415\n",
      "Type 1 Error (Positive): 0.07869742198100407\n",
      "Type 1 Error (Neutral): 0.027985074626865673\n",
      "Type 1 Error (Negative): 0.05250596658711217\n",
      "Type 2 Error (Positive): 14\n",
      "Type 2 Error (Neutral): 41\n",
      "Type 2 Error (Negative): 55\n"
     ]
    }
   ],
   "source": [
    "from sklearn.metrics import confusion_matrix\n",
    "\n",
    "# Build the confusion matrix\n",
    "cm = confusion_matrix(sentiment_data['sentiment_original'], sentiment_data['Sentiment'])\n",
    "\n",
    "# Calculate accuracy\n",
    "accuracy = (cm[0,0] + cm[1,1] + cm[2,2]) / cm.sum()\n",
    "print(\"Accuracy:\", accuracy)\n",
    "\n",
    "# Calculate precision for each class\n",
    "precision_positive = cm[0,0] / (cm[0,0] + cm[1,0] + cm[2,0])\n",
    "precision_neutral = cm[1,1] / (cm[0,1] + cm[1,1] + cm[2,1])\n",
    "precision_negative = cm[2,2] / (cm[0,2] + cm[1,2] + cm[2,2])\n",
    "print(\"Precision (Positive):\", precision_positive)\n",
    "print(\"Precision (Neutral):\", precision_neutral)\n",
    "print(\"Precision (Negative):\", precision_negative)\n",
    "\n",
    "# Calculate type 1 error (false positive rate) for each class\n",
    "type1_error_positive = (cm[1,0] + cm[2,0]) / (cm[1,0] + cm[2,0] + cm[1,1] + cm[2,2])\n",
    "type1_error_neutral = (cm[0,1] + cm[2,1]) / (cm[0,1] + cm[2,1] + cm[0,0] + cm[2,2])\n",
    "type1_error_negative = (cm[0,2] + cm[1,2]) / (cm[0,2] + cm[1,2] + cm[0,0] + cm[1,1])\n",
    "print(\"Type 1 Error (Positive):\", type1_error_positive)\n",
    "print(\"Type 1 Error (Neutral):\", type1_error_neutral)\n",
    "print(\"Type 1 Error (Negative):\", type1_error_negative)\n",
    "\n",
    "# Calculate type 2 error (false negative rate) for each class\n",
    "type2_error_positive = cm[0,1] + cm[0,2]\n",
    "type2_error_neutral = cm[1,0] + cm[1,2]\n",
    "type2_error_negative = cm[2,0] + cm[2,1]\n",
    "print(\"Type 2 Error (Positive):\", type2_error_positive)\n",
    "print(\"Type 2 Error (Neutral):\", type2_error_neutral)\n",
    "print(\"Type 2 Error (Negative):\", type2_error_negative)"
   ]
  },
  {
   "cell_type": "code",
   "execution_count": null,
   "id": "4f16afbe-d093-4efc-85db-f43b0a8b1b42",
   "metadata": {},
   "outputs": [],
   "source": []
  },
  {
   "cell_type": "code",
   "execution_count": null,
   "id": "685ef924-7825-46a3-8c8b-70229817a550",
   "metadata": {},
   "outputs": [],
   "source": []
  }
 ],
 "metadata": {
  "kernelspec": {
   "display_name": "Python 3 (ipykernel)",
   "language": "python",
   "name": "python3"
  },
  "language_info": {
   "codemirror_mode": {
    "name": "ipython",
    "version": 3
   },
   "file_extension": ".py",
   "mimetype": "text/x-python",
   "name": "python",
   "nbconvert_exporter": "python",
   "pygments_lexer": "ipython3",
   "version": "3.12.7"
  }
 },
 "nbformat": 4,
 "nbformat_minor": 5
}
